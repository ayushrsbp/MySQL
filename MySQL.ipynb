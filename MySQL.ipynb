{
 "cells": [
  {
   "cell_type": "code",
   "execution_count": null,
   "id": "86ae0620-61bb-477e-a6b6-49bd14775766",
   "metadata": {},
   "outputs": [],
   "source": [
    "# # Q.1\n",
    "# A database is an organized collection of structured data that is stored and managed in a computer system. Databases provide a structured and secure environment for storing and accessing data.\n",
    "\n",
    "# SQL (Structured Query Language) and NoSQL (Not Only SQL) databases are two different types of database management systems. Difference between them are following:\n",
    "#     * SQL:\n",
    "#         * SQL databases use a structured data model known as the relational model. Data is organized into tables with predefined relationships between them.\n",
    "#         * SQL databases use SQL as the standard query language for interacting with the database.\n",
    "#         * SQL databases have a predefined schema that determines the structure of the data. The schema specifies the tables, columns, data types, and relationships between tables.\n",
    "#     * NoSQL:\n",
    "#         * NoSQL databases use various data models such as key-value pairs, documents, graphs, or column families. The data structure is flexible, allowing for dynamic changes in the data model.\n",
    "#         * NoSQL databases may have their own query languages, but they do not necessarily use SQL.\n",
    "#         * NoSQL databases are often schema-less or have a flexible schema. They allow for dynamic and evolving data structures where each document or object can have different attributes or fields."
   ]
  },
  {
   "cell_type": "code",
   "execution_count": null,
   "id": "5b944a91-ca5d-49db-a136-a57cba76b9b5",
   "metadata": {},
   "outputs": [],
   "source": [
    "# # Q. 2\n",
    "# DDL stands for Data Definition Language. It is a subset of SQL (Structured Query Language) used to define and manage the structure of a database and its objects. DDL statements are responsible for creating, altering, and dropping database objects such as tables, views, indexes, and constraints.\n",
    "\n",
    "#  * CREATE:\n",
    "#         The CREATE statement is used to create new database objects, such as tables, indexes, or views. It establishes the initial structure and defines the properties of the object.\n",
    "#         ex :\n",
    "#             * CREATE TABLE Student(Roll_No INT, Name VARCHAR(30), Department VARCHAR(50));\n",
    "            \n",
    "#  * DROP:\n",
    "#         The DROP statement is used to remove or delete existing database objects. It permanently eliminates the object and any associated data from the database.\n",
    "#         ex :\n",
    "#             * DROP Table Student;\n",
    "            \n",
    "#  * ALTER:\n",
    "#         The ALTER statement is used to modify or alter the structure of existing database objects. It allows for changes to be made to the object's definition, such as adding or removing columns, modifying data types, or renaming objects.\n",
    "#         ex :\n",
    "#             * ALTER Table Student\n",
    "#               ADD CGPA FLOAT;\n",
    "                \n",
    "#  * TRUNCATE:\n",
    "#         The TRUNCATE statement is used to remove all data from a table while keeping its structure intact. It provides a fast and efficient way to delete all rows in a table without dropping and recreating the table.\n",
    "#         ex :\n",
    "#             * TRUNCATE TABLE Student;\n",
    "\n"
   ]
  },
  {
   "cell_type": "code",
   "execution_count": null,
   "id": "a0778b96-b3af-4dae-96e0-e8d775432001",
   "metadata": {},
   "outputs": [],
   "source": [
    "# # Q. 3\n",
    "# DML stands for Data Manipulation Language. It is a subset of SQL (Structured Query Language) that is used to manipulate and operate on the data within a database. DML statements are responsible for retrieving, inserting, modifying, and deleting data in database tables.\n",
    "\n",
    "#     * INSERT:\n",
    "#         The INSERT statement is used to add new records or rows into a table. It allows you to specify the values to be inserted for each column.\n",
    "#         ex :\n",
    "#             * INSERT INTO `Student` VALUES(100,\"Ayush Raj\", \"Mining\", 8.17);\n",
    "            \n",
    "#     * UPDATE:\n",
    "#         The UPDATE statement is used to modify existing records in a table. It allows us to update the values of one or more columns based on specified conditions.\n",
    "#         ex :\n",
    "#             * UPDATE Student SET CGPA = 8.7 WHERE Roll_No = 101;\n",
    "            \n",
    "#     * DELETE:\n",
    "#         The DELETE statement is used to remove one or more records from a table based on specified conditions.\n",
    "#         ex :\n",
    "#             * DELETE from `Student` where `Roll_No` = 101;"
   ]
  },
  {
   "cell_type": "code",
   "execution_count": null,
   "id": "2ae88fc9-d01f-40b0-8188-fd06a64294df",
   "metadata": {},
   "outputs": [],
   "source": [
    "# # Q4.\n",
    "# DQL stands for Data Query Language. It is a subset of SQL (Structured Query Language) used for querying and retrieving data from a database. DQL statements are focused on retrieving data rather than manipulating it.\n",
    "\n",
    "#     * SELECT:\n",
    "#         Used to retrieve data from one or more tables in a database based on specified conditions. It allows us to specify the columns to be selected, apply filters, sort the result set, and perform various other operations.\n",
    "#         * ex :\n",
    "#             SELECT Roll_No, CGPA FROM `Student`;"
   ]
  },
  {
   "cell_type": "code",
   "execution_count": null,
   "id": "993b1ad2-c17c-401c-98c0-24e6443a89d3",
   "metadata": {},
   "outputs": [],
   "source": [
    "# # Q5.\n",
    "#  * Primary Key:\n",
    "#         A primary key is a column or a combination of columns in a table that uniquely identifies each row or record. It serves as a unique identifier for the records in the table and ensures that each row has a distinct identity.\n",
    "        \n",
    "#         Uniqueness: Each value in the primary key column(s) must be unique. No two rows can have the same primary key value.\n",
    "#         Non-nullability: The primary key column(s) cannot contain null (empty) values. It must have a value for every row.\n",
    "#         Immutability: The value of a primary key should not change once it is assigned to a row.\n",
    "        \n",
    "#  * Foreign Key:\n",
    "#         A foreign key establishes a relationship between two tables by referring to the primary key of another table. It represents a column or a set of columns in one table that refers to the primary key in another table, creating a link between the two tables.\n",
    "        \n",
    "#         Referential integrity: The values in the foreign key column(s) must match an existing primary key value in the referenced table.\n",
    "#         Allows data integrity constraints: Foreign keys can enforce data integrity by preventing actions that would violate the relationship, such as deleting a row with a referenced primary key or inserting values that do not exist in the referenced table."
   ]
  },
  {
   "cell_type": "code",
   "execution_count": null,
   "id": "2418dc1d-e60d-472b-9ddb-e0cbfaaa1438",
   "metadata": {},
   "outputs": [],
   "source": [
    "# # Q6.\n",
    "# import mysql.connector\n",
    "# mydb = mysql.connector.connect(\n",
    "#     host = \"localhost\",\n",
    "#     user = \"abc\",\n",
    "#     password = \"password\"\n",
    "# )\n",
    "\n",
    "# cursor(): The cursor() method is used to create a cursor object within a database connection. A cursor is a control structure that enables traversal over the rows of a result set or executing SQL statements. It acts as a handle or pointer to the result set returned by a database query.\n",
    "#           We obtain a cursor object by calling the cursor() method on the database connection object. This cursor object allows us to perform various operations on the database, such as executing SQL statements, fetching data.\n",
    "    \n",
    "# execute(): The execute() method is used to execute SQL statements or queries using the cursor object. It takes an SQL statement as a parameter and sends it to the database for execution. The result, if any, is returned by the database and can be retrieved using other methods provided by the cursor.\n",
    "\n",
    "# The execute() method allows us to perform various operations, such as creating or modifying database tables, inserting or updating data, retrieving records, and more."
   ]
  },
  {
   "cell_type": "code",
   "execution_count": null,
   "id": "2ec88aa9-d990-42d3-a359-c8bc26beb4b7",
   "metadata": {},
   "outputs": [],
   "source": [
    "# # Q7.\n",
    "# The order in which the clauses in queries are executed is as follows:\n",
    "\n",
    "# 1. FROM/JOIN: The FROM and/or JOIN clauses are executed first to determine the data of interest.\n",
    "\n",
    "# 2. WHERE: The WHERE clause is executed to filter out records that do not meet the constraints.\n",
    "\n",
    "# 3. GROUP BY: The GROUP BY clause is executed to group the data based on the values in one or more columns.\n",
    "\n",
    "# 4. HAVING: The HAVING clause is executed to remove the created grouped records that don’t meet the constraints.\n",
    "\n",
    "# 5. SELECT: The SELECT clause is executed to derive all desired columns and expressions.\n",
    "\n",
    "# 6. ORDER BY: The ORDER BY clause is executed to sort the derived values in ascending or descending order.\n",
    "\n",
    "# 7. LIMIT/OFFSET: Finally, the LIMIT and/or OFFSET clauses are executed to keep or skip a specified number of rows."
   ]
  }
 ],
 "metadata": {
  "kernelspec": {
   "display_name": "Python 3 (ipykernel)",
   "language": "python",
   "name": "python3"
  },
  "language_info": {
   "codemirror_mode": {
    "name": "ipython",
    "version": 3
   },
   "file_extension": ".py",
   "mimetype": "text/x-python",
   "name": "python",
   "nbconvert_exporter": "python",
   "pygments_lexer": "ipython3",
   "version": "3.10.8"
  }
 },
 "nbformat": 4,
 "nbformat_minor": 5
}
